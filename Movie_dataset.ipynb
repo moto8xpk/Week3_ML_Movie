{
 "cells": [
  {
   "cell_type": "code",
   "execution_count": 31,
   "metadata": {
    "colab": {
     "base_uri": "https://localhost:8080/",
     "height": 17
    },
    "colab_type": "code",
    "executionInfo": {
     "elapsed": 2570,
     "status": "ok",
     "timestamp": 1545040274422,
     "user": {
      "displayName": "An Tran",
      "photoUrl": "",
      "userId": "16327389219813473079"
     },
     "user_tz": -420
    },
    "id": "d4T2l0ftk2ZD",
    "outputId": "d7bc4bad-5298-4ea1-88d6-e1981c782ecf"
   },
   "outputs": [
    {
     "data": {
      "text/html": [
       "<script type=\"text/javascript\">window.PlotlyConfig = {MathJaxConfig: 'local'};</script><script type=\"text/javascript\">if (window.MathJax) {MathJax.Hub.Config({SVG: {font: \"STIX-Web\"}});}</script><script>requirejs.config({paths: { 'plotly': ['https://cdn.plot.ly/plotly-latest.min']},});if(!window._Plotly) {require(['plotly'],function(plotly) {window._Plotly=plotly;});}</script>"
      ],
      "text/vnd.plotly.v1+html": [
       "<script type=\"text/javascript\">window.PlotlyConfig = {MathJaxConfig: 'local'};</script><script type=\"text/javascript\">if (window.MathJax) {MathJax.Hub.Config({SVG: {font: \"STIX-Web\"}});}</script><script>requirejs.config({paths: { 'plotly': ['https://cdn.plot.ly/plotly-latest.min']},});if(!window._Plotly) {require(['plotly'],function(plotly) {window._Plotly=plotly;});}</script>"
      ]
     },
     "metadata": {},
     "output_type": "display_data"
    }
   ],
   "source": [
    "# imports\n",
    "import numpy as np\n",
    "import pandas as pd\n",
    "\n",
    "import matplotlib.pyplot as plt\n",
    "import seaborn as sns\n",
    "\n",
    "%matplotlib inline\n",
    "\n",
    "import ast\n",
    "\n",
    "import plotly.graph_objs as go \n",
    "from plotly.offline import init_notebook_mode,iplot\n",
    "init_notebook_mode(connected=True)"
   ]
  },
  {
   "cell_type": "code",
   "execution_count": 32,
   "metadata": {
    "colab": {
     "base_uri": "https://localhost:8080/",
     "height": 707
    },
    "colab_type": "code",
    "executionInfo": {
     "elapsed": 4160,
     "status": "ok",
     "timestamp": 1545040729136,
     "user": {
      "displayName": "An Tran",
      "photoUrl": "",
      "userId": "16327389219813473079"
     },
     "user_tz": -420
    },
    "id": "eV21smGok4Od",
    "outputId": "64b58854-aaf7-402f-a0d9-5d7b92e1ff81"
   },
   "outputs": [
    {
     "data": {
      "text/html": [
       "<div>\n",
       "<style scoped>\n",
       "    .dataframe tbody tr th:only-of-type {\n",
       "        vertical-align: middle;\n",
       "    }\n",
       "\n",
       "    .dataframe tbody tr th {\n",
       "        vertical-align: top;\n",
       "    }\n",
       "\n",
       "    .dataframe thead th {\n",
       "        text-align: right;\n",
       "    }\n",
       "</style>\n",
       "<table border=\"1\" class=\"dataframe\">\n",
       "  <thead>\n",
       "    <tr style=\"text-align: right;\">\n",
       "      <th></th>\n",
       "      <th>adult</th>\n",
       "      <th>belongs_to_collection</th>\n",
       "      <th>budget</th>\n",
       "      <th>genres</th>\n",
       "      <th>homepage</th>\n",
       "      <th>id</th>\n",
       "      <th>imdb_id</th>\n",
       "      <th>original_language</th>\n",
       "      <th>original_title</th>\n",
       "      <th>overview</th>\n",
       "      <th>...</th>\n",
       "      <th>release_date</th>\n",
       "      <th>revenue</th>\n",
       "      <th>runtime</th>\n",
       "      <th>spoken_languages</th>\n",
       "      <th>status</th>\n",
       "      <th>tagline</th>\n",
       "      <th>title</th>\n",
       "      <th>video</th>\n",
       "      <th>vote_average</th>\n",
       "      <th>vote_count</th>\n",
       "    </tr>\n",
       "  </thead>\n",
       "  <tbody>\n",
       "    <tr>\n",
       "      <th>0</th>\n",
       "      <td>False</td>\n",
       "      <td>{'id': 10194, 'name': 'Toy Story Collection', ...</td>\n",
       "      <td>30000000</td>\n",
       "      <td>[{'id': 16, 'name': 'Animation'}, {'id': 35, '...</td>\n",
       "      <td>http://toystory.disney.com/toy-story</td>\n",
       "      <td>862</td>\n",
       "      <td>tt0114709</td>\n",
       "      <td>en</td>\n",
       "      <td>Toy Story</td>\n",
       "      <td>Led by Woody, Andy's toys live happily in his ...</td>\n",
       "      <td>...</td>\n",
       "      <td>1995-10-30</td>\n",
       "      <td>373554033.0</td>\n",
       "      <td>81.0</td>\n",
       "      <td>[{'iso_639_1': 'en', 'name': 'English'}]</td>\n",
       "      <td>Released</td>\n",
       "      <td>NaN</td>\n",
       "      <td>Toy Story</td>\n",
       "      <td>False</td>\n",
       "      <td>7.7</td>\n",
       "      <td>5415.0</td>\n",
       "    </tr>\n",
       "    <tr>\n",
       "      <th>1</th>\n",
       "      <td>False</td>\n",
       "      <td>NaN</td>\n",
       "      <td>65000000</td>\n",
       "      <td>[{'id': 12, 'name': 'Adventure'}, {'id': 14, '...</td>\n",
       "      <td>NaN</td>\n",
       "      <td>8844</td>\n",
       "      <td>tt0113497</td>\n",
       "      <td>en</td>\n",
       "      <td>Jumanji</td>\n",
       "      <td>When siblings Judy and Peter discover an encha...</td>\n",
       "      <td>...</td>\n",
       "      <td>1995-12-15</td>\n",
       "      <td>262797249.0</td>\n",
       "      <td>104.0</td>\n",
       "      <td>[{'iso_639_1': 'en', 'name': 'English'}, {'iso...</td>\n",
       "      <td>Released</td>\n",
       "      <td>Roll the dice and unleash the excitement!</td>\n",
       "      <td>Jumanji</td>\n",
       "      <td>False</td>\n",
       "      <td>6.9</td>\n",
       "      <td>2413.0</td>\n",
       "    </tr>\n",
       "    <tr>\n",
       "      <th>2</th>\n",
       "      <td>False</td>\n",
       "      <td>{'id': 119050, 'name': 'Grumpy Old Men Collect...</td>\n",
       "      <td>0</td>\n",
       "      <td>[{'id': 10749, 'name': 'Romance'}, {'id': 35, ...</td>\n",
       "      <td>NaN</td>\n",
       "      <td>15602</td>\n",
       "      <td>tt0113228</td>\n",
       "      <td>en</td>\n",
       "      <td>Grumpier Old Men</td>\n",
       "      <td>A family wedding reignites the ancient feud be...</td>\n",
       "      <td>...</td>\n",
       "      <td>1995-12-22</td>\n",
       "      <td>0.0</td>\n",
       "      <td>101.0</td>\n",
       "      <td>[{'iso_639_1': 'en', 'name': 'English'}]</td>\n",
       "      <td>Released</td>\n",
       "      <td>Still Yelling. Still Fighting. Still Ready for...</td>\n",
       "      <td>Grumpier Old Men</td>\n",
       "      <td>False</td>\n",
       "      <td>6.5</td>\n",
       "      <td>92.0</td>\n",
       "    </tr>\n",
       "    <tr>\n",
       "      <th>3</th>\n",
       "      <td>False</td>\n",
       "      <td>NaN</td>\n",
       "      <td>16000000</td>\n",
       "      <td>[{'id': 35, 'name': 'Comedy'}, {'id': 18, 'nam...</td>\n",
       "      <td>NaN</td>\n",
       "      <td>31357</td>\n",
       "      <td>tt0114885</td>\n",
       "      <td>en</td>\n",
       "      <td>Waiting to Exhale</td>\n",
       "      <td>Cheated on, mistreated and stepped on, the wom...</td>\n",
       "      <td>...</td>\n",
       "      <td>1995-12-22</td>\n",
       "      <td>81452156.0</td>\n",
       "      <td>127.0</td>\n",
       "      <td>[{'iso_639_1': 'en', 'name': 'English'}]</td>\n",
       "      <td>Released</td>\n",
       "      <td>Friends are the people who let you be yourself...</td>\n",
       "      <td>Waiting to Exhale</td>\n",
       "      <td>False</td>\n",
       "      <td>6.1</td>\n",
       "      <td>34.0</td>\n",
       "    </tr>\n",
       "    <tr>\n",
       "      <th>4</th>\n",
       "      <td>False</td>\n",
       "      <td>{'id': 96871, 'name': 'Father of the Bride Col...</td>\n",
       "      <td>0</td>\n",
       "      <td>[{'id': 35, 'name': 'Comedy'}]</td>\n",
       "      <td>NaN</td>\n",
       "      <td>11862</td>\n",
       "      <td>tt0113041</td>\n",
       "      <td>en</td>\n",
       "      <td>Father of the Bride Part II</td>\n",
       "      <td>Just when George Banks has recovered from his ...</td>\n",
       "      <td>...</td>\n",
       "      <td>1995-02-10</td>\n",
       "      <td>76578911.0</td>\n",
       "      <td>106.0</td>\n",
       "      <td>[{'iso_639_1': 'en', 'name': 'English'}]</td>\n",
       "      <td>Released</td>\n",
       "      <td>Just When His World Is Back To Normal... He's ...</td>\n",
       "      <td>Father of the Bride Part II</td>\n",
       "      <td>False</td>\n",
       "      <td>5.7</td>\n",
       "      <td>173.0</td>\n",
       "    </tr>\n",
       "  </tbody>\n",
       "</table>\n",
       "<p>5 rows × 24 columns</p>\n",
       "</div>"
      ],
      "text/plain": [
       "   adult                              belongs_to_collection    budget  \\\n",
       "0  False  {'id': 10194, 'name': 'Toy Story Collection', ...  30000000   \n",
       "1  False                                                NaN  65000000   \n",
       "2  False  {'id': 119050, 'name': 'Grumpy Old Men Collect...         0   \n",
       "3  False                                                NaN  16000000   \n",
       "4  False  {'id': 96871, 'name': 'Father of the Bride Col...         0   \n",
       "\n",
       "                                              genres  \\\n",
       "0  [{'id': 16, 'name': 'Animation'}, {'id': 35, '...   \n",
       "1  [{'id': 12, 'name': 'Adventure'}, {'id': 14, '...   \n",
       "2  [{'id': 10749, 'name': 'Romance'}, {'id': 35, ...   \n",
       "3  [{'id': 35, 'name': 'Comedy'}, {'id': 18, 'nam...   \n",
       "4                     [{'id': 35, 'name': 'Comedy'}]   \n",
       "\n",
       "                               homepage     id    imdb_id original_language  \\\n",
       "0  http://toystory.disney.com/toy-story    862  tt0114709                en   \n",
       "1                                   NaN   8844  tt0113497                en   \n",
       "2                                   NaN  15602  tt0113228                en   \n",
       "3                                   NaN  31357  tt0114885                en   \n",
       "4                                   NaN  11862  tt0113041                en   \n",
       "\n",
       "                original_title  \\\n",
       "0                    Toy Story   \n",
       "1                      Jumanji   \n",
       "2             Grumpier Old Men   \n",
       "3            Waiting to Exhale   \n",
       "4  Father of the Bride Part II   \n",
       "\n",
       "                                            overview    ...     release_date  \\\n",
       "0  Led by Woody, Andy's toys live happily in his ...    ...       1995-10-30   \n",
       "1  When siblings Judy and Peter discover an encha...    ...       1995-12-15   \n",
       "2  A family wedding reignites the ancient feud be...    ...       1995-12-22   \n",
       "3  Cheated on, mistreated and stepped on, the wom...    ...       1995-12-22   \n",
       "4  Just when George Banks has recovered from his ...    ...       1995-02-10   \n",
       "\n",
       "       revenue runtime                                   spoken_languages  \\\n",
       "0  373554033.0    81.0           [{'iso_639_1': 'en', 'name': 'English'}]   \n",
       "1  262797249.0   104.0  [{'iso_639_1': 'en', 'name': 'English'}, {'iso...   \n",
       "2          0.0   101.0           [{'iso_639_1': 'en', 'name': 'English'}]   \n",
       "3   81452156.0   127.0           [{'iso_639_1': 'en', 'name': 'English'}]   \n",
       "4   76578911.0   106.0           [{'iso_639_1': 'en', 'name': 'English'}]   \n",
       "\n",
       "     status                                            tagline  \\\n",
       "0  Released                                                NaN   \n",
       "1  Released          Roll the dice and unleash the excitement!   \n",
       "2  Released  Still Yelling. Still Fighting. Still Ready for...   \n",
       "3  Released  Friends are the people who let you be yourself...   \n",
       "4  Released  Just When His World Is Back To Normal... He's ...   \n",
       "\n",
       "                         title  video vote_average vote_count  \n",
       "0                    Toy Story  False          7.7     5415.0  \n",
       "1                      Jumanji  False          6.9     2413.0  \n",
       "2             Grumpier Old Men  False          6.5       92.0  \n",
       "3            Waiting to Exhale  False          6.1       34.0  \n",
       "4  Father of the Bride Part II  False          5.7      173.0  \n",
       "\n",
       "[5 rows x 24 columns]"
      ]
     },
     "execution_count": 32,
     "metadata": {},
     "output_type": "execute_result"
    }
   ],
   "source": [
    "# https://query.data.world/s/4ef72eiwz6rzc546jfympbna6aftek\n",
    "movie_meta = pd.read_csv('https://query.data.world/s/7efiji5tf4ft2pr4nry676qtruw3rg', low_memory = False)\n",
    "movie_meta.head()"
   ]
  },
  {
   "cell_type": "code",
   "execution_count": 33,
   "metadata": {
    "colab": {
     "base_uri": "https://localhost:8080/",
     "height": 471
    },
    "colab_type": "code",
    "executionInfo": {
     "elapsed": 730,
     "status": "ok",
     "timestamp": 1545040734186,
     "user": {
      "displayName": "An Tran",
      "photoUrl": "",
      "userId": "16327389219813473079"
     },
     "user_tz": -420
    },
    "id": "INmA-K2Al4yq",
    "outputId": "6ad0f938-23d2-4a82-db4a-dad4dc901f00"
   },
   "outputs": [
    {
     "data": {
      "text/plain": [
       "adult                     object\n",
       "belongs_to_collection     object\n",
       "budget                    object\n",
       "genres                    object\n",
       "homepage                  object\n",
       "id                        object\n",
       "imdb_id                   object\n",
       "original_language         object\n",
       "original_title            object\n",
       "overview                  object\n",
       "popularity                object\n",
       "poster_path               object\n",
       "production_companies      object\n",
       "production_countries      object\n",
       "release_date              object\n",
       "revenue                  float64\n",
       "runtime                  float64\n",
       "spoken_languages          object\n",
       "status                    object\n",
       "tagline                   object\n",
       "title                     object\n",
       "video                     object\n",
       "vote_average             float64\n",
       "vote_count               float64\n",
       "dtype: object"
      ]
     },
     "execution_count": 33,
     "metadata": {},
     "output_type": "execute_result"
    }
   ],
   "source": [
    "movie_meta.dtypes"
   ]
  },
  {
   "cell_type": "code",
   "execution_count": 34,
   "metadata": {
    "colab": {
     "base_uri": "https://localhost:8080/",
     "height": 35
    },
    "colab_type": "code",
    "executionInfo": {
     "elapsed": 737,
     "status": "ok",
     "timestamp": 1545040736218,
     "user": {
      "displayName": "An Tran",
      "photoUrl": "",
      "userId": "16327389219813473079"
     },
     "user_tz": -420
    },
    "id": "tbAiAQQMl-S1",
    "outputId": "1ed14c77-e856-4827-9060-3f1ac38382b1"
   },
   "outputs": [
    {
     "data": {
      "text/plain": [
       "(45466, 24)"
      ]
     },
     "execution_count": 34,
     "metadata": {},
     "output_type": "execute_result"
    }
   ],
   "source": [
    "movie_meta.shape"
   ]
  },
  {
   "cell_type": "code",
   "execution_count": 35,
   "metadata": {
    "colab": {},
    "colab_type": "code",
    "id": "dBl1jpsWmBYZ"
   },
   "outputs": [],
   "source": [
    "movie_meta = movie_meta.set_index('title', drop = True)"
   ]
  },
  {
   "cell_type": "code",
   "execution_count": 36,
   "metadata": {
    "colab": {
     "base_uri": "https://localhost:8080/",
     "height": 373
    },
    "colab_type": "code",
    "executionInfo": {
     "elapsed": 2681,
     "status": "ok",
     "timestamp": 1545040791916,
     "user": {
      "displayName": "An Tran",
      "photoUrl": "",
      "userId": "16327389219813473079"
     },
     "user_tz": -420
    },
    "id": "fYOhOUPXm1yS",
    "outputId": "3500b159-ebb0-4d2c-87b7-86b2b06b5feb"
   },
   "outputs": [
    {
     "data": {
      "text/plain": [
       "<matplotlib.axes._subplots.AxesSubplot at 0x20821dfb320>"
      ]
     },
     "execution_count": 36,
     "metadata": {},
     "output_type": "execute_result"
    },
    {
     "data": {
      "image/png": "[encoded data removed]",
      "text/plain": [
       "<Figure size 432x288 with 1 Axes>"
      ]
     },
     "metadata": {
      "needs_background": "light"
     },
     "output_type": "display_data"
    }
   ],
   "source": [
    "sns.heatmap(movie_meta.isnull(), yticklabels = False, cbar = False, cmap = 'viridis')"
   ]
  },
  {
   "cell_type": "code",
   "execution_count": 37,
   "metadata": {
    "colab": {},
    "colab_type": "code",
    "id": "owCLX1ULm35X"
   },
   "outputs": [],
   "source": [
    "movie_meta = movie_meta.dropna(thresh = 5)"
   ]
  },
  {
   "cell_type": "code",
   "execution_count": 38,
   "metadata": {
    "colab": {},
    "colab_type": "code",
    "id": "lGgwo37Bm6ed"
   },
   "outputs": [],
   "source": [
    "movie_meta = movie_meta.drop(['homepage', 'imdb_id', 'original_title', 'overview', 'popularity', 'poster_path', 'status', 'tagline', 'video'],\n",
    "               axis = 1)"
   ]
  },
  {
   "cell_type": "code",
   "execution_count": 39,
   "metadata": {
    "colab": {
     "base_uri": "https://localhost:8080/",
     "height": 90
    },
    "colab_type": "code",
    "executionInfo": {
     "elapsed": 640,
     "status": "ok",
     "timestamp": 1545040816387,
     "user": {
      "displayName": "An Tran",
      "photoUrl": "",
      "userId": "16327389219813473079"
     },
     "user_tz": -420
    },
    "id": "HMMhAxLlm8mq",
    "outputId": "13abf8ff-692b-4a05-b60c-ef2e43810477"
   },
   "outputs": [
    {
     "data": {
      "text/plain": [
       "array(['False', 'True', ' - Written by Ørnås',\n",
       "       ' Rune Balot goes to a casino connected to the October corporation to try to wrap up her case once and for all.',\n",
       "       ' Avalanche Sharks tells the story of a bikini contest that turns into a horrifying affair when it is hit by a shark avalanche.'],\n",
       "      dtype=object)"
      ]
     },
     "execution_count": 39,
     "metadata": {},
     "output_type": "execute_result"
    }
   ],
   "source": [
    "movie_meta['adult'].unique()"
   ]
  },
  {
   "cell_type": "code",
   "execution_count": 40,
   "metadata": {
    "colab": {},
    "colab_type": "code",
    "id": "0WQVtT9cm-Xn"
   },
   "outputs": [],
   "source": [
    "movie_meta.loc[(movie_meta['adult'] != 'True') & (movie_meta['adult'] != 'False'), 'adult'] = False"
   ]
  },
  {
   "cell_type": "code",
   "execution_count": 41,
   "metadata": {
    "colab": {},
    "colab_type": "code",
    "id": "e0atl3osnAmg"
   },
   "outputs": [],
   "source": [
    "movie_meta['adult'] = movie_meta['adult'].map({'True': True, 'False': False})"
   ]
  },
  {
   "cell_type": "code",
   "execution_count": 42,
   "metadata": {
    "colab": {},
    "colab_type": "code",
    "id": "_7NJUDZ-nDMh"
   },
   "outputs": [],
   "source": [
    "movie_meta['belongs_to_collection'] = movie_meta['belongs_to_collection'].notna()"
   ]
  },
  {
   "cell_type": "code",
   "execution_count": 43,
   "metadata": {
    "colab": {
     "base_uri": "https://localhost:8080/",
     "height": 35
    },
    "colab_type": "code",
    "executionInfo": {
     "elapsed": 677,
     "status": "ok",
     "timestamp": 1545040853851,
     "user": {
      "displayName": "An Tran",
      "photoUrl": "",
      "userId": "16327389219813473079"
     },
     "user_tz": -420
    },
    "id": "XZdNlQFWnFod",
    "outputId": "a7c712a4-04d1-498c-fdf2-3a4c40ed22ee"
   },
   "outputs": [
    {
     "data": {
      "text/plain": [
       "36573"
      ]
     },
     "execution_count": 43,
     "metadata": {},
     "output_type": "execute_result"
    }
   ],
   "source": [
    "movie_meta[movie_meta['budget'] == '0']['budget'].count()"
   ]
  },
  {
   "cell_type": "code",
   "execution_count": 44,
   "metadata": {
    "colab": {
     "base_uri": "https://localhost:8080/",
     "height": 35
    },
    "colab_type": "code",
    "executionInfo": {
     "elapsed": 674,
     "status": "ok",
     "timestamp": 1545040861678,
     "user": {
      "displayName": "An Tran",
      "photoUrl": "",
      "userId": "16327389219813473079"
     },
     "user_tz": -420
    },
    "id": "STNMknVznHgE",
    "outputId": "7fea139e-5cc9-4d45-8c21-e0d17c712be6"
   },
   "outputs": [
    {
     "data": {
      "text/plain": [
       "38052"
      ]
     },
     "execution_count": 44,
     "metadata": {},
     "output_type": "execute_result"
    }
   ],
   "source": [
    "movie_meta[movie_meta['revenue'] == 0]['revenue'].count()"
   ]
  },
  {
   "cell_type": "code",
   "execution_count": 45,
   "metadata": {
    "colab": {},
    "colab_type": "code",
    "id": "uhAPtHkAnJaj"
   },
   "outputs": [],
   "source": [
    "movie_meta['budget'] = pd.to_numeric(movie_meta['budget'], errors = 'coerce')\n",
    "# revenue is already a float\n",
    "movie_meta.loc[(movie_meta['budget'] == 0) & (movie_meta['revenue'] == 0), 'revenue'] = np.nan\n",
    "movie_meta.loc[movie_meta['budget'] == 0, 'budget'] = np.nan"
   ]
  },
  {
   "cell_type": "code",
   "execution_count": 46,
   "metadata": {
    "colab": {
     "base_uri": "https://localhost:8080/",
     "height": 35
    },
    "colab_type": "code",
    "executionInfo": {
     "elapsed": 804,
     "status": "ok",
     "timestamp": 1545040875983,
     "user": {
      "displayName": "An Tran",
      "photoUrl": "",
      "userId": "16327389219813473079"
     },
     "user_tz": -420
    },
    "id": "c290NopgnLLu",
    "outputId": "59037e72-0f8e-401d-cd6c-9c48c813eef5"
   },
   "outputs": [
    {
     "data": {
      "text/plain": [
       "138"
      ]
     },
     "execution_count": 46,
     "metadata": {},
     "output_type": "execute_result"
    }
   ],
   "source": [
    "movie_meta[movie_meta['budget'] < 100]['budget'].count()"
   ]
  },
  {
   "cell_type": "code",
   "execution_count": 47,
   "metadata": {
    "colab": {},
    "colab_type": "code",
    "id": "ui2zgYn6nM31"
   },
   "outputs": [],
   "source": [
    "def scale(num):\n",
    "    if num < 100:\n",
    "        return num * 1000000\n",
    "    elif num >= 100 and num < 1000:\n",
    "        return num * 1000\n",
    "    else:\n",
    "        return num"
   ]
  },
  {
   "cell_type": "code",
   "execution_count": 48,
   "metadata": {
    "colab": {},
    "colab_type": "code",
    "id": "7VplKfPAnO_F"
   },
   "outputs": [],
   "source": [
    "movie_meta[['budget', 'revenue']] = movie_meta[['budget', 'revenue']].applymap(scale)"
   ]
  },
  {
   "cell_type": "code",
   "execution_count": 49,
   "metadata": {
    "colab": {
     "base_uri": "https://localhost:8080/",
     "height": 308
    },
    "colab_type": "code",
    "executionInfo": {
     "elapsed": 680,
     "status": "ok",
     "timestamp": 1545040899008,
     "user": {
      "displayName": "An Tran",
      "photoUrl": "",
      "userId": "16327389219813473079"
     },
     "user_tz": -420
    },
    "id": "iEuRIsS1nQur",
    "outputId": "0e0f3e23-96b9-4a79-c155-c10416eeba50"
   },
   "outputs": [
    {
     "data": {
      "text/plain": [
       "<matplotlib.axes._subplots.AxesSubplot at 0x208134d36a0>"
      ]
     },
     "execution_count": 49,
     "metadata": {},
     "output_type": "execute_result"
    },
    {
     "data": {
      "image/png": "[encoded data removed]",
      "text/plain": [
       "<Figure size 432x288 with 1 Axes>"
      ]
     },
     "metadata": {
      "needs_background": "light"
     },
     "output_type": "display_data"
    }
   ],
   "source": [
    "sns.distplot(movie_meta[movie_meta['budget'].notnull()]['budget'])"
   ]
  },
  {
   "cell_type": "code",
   "execution_count": 50,
   "metadata": {
    "colab": {},
    "colab_type": "code",
    "id": "mp62zD5rnSht"
   },
   "outputs": [],
   "source": [
    "def get_values(data_str):\n",
    "    if isinstance(data_str, float):\n",
    "        pass\n",
    "    else:\n",
    "        values = []\n",
    "        data_str = ast.literal_eval(data_str)\n",
    "        if isinstance(data_str, list):\n",
    "            for k_v in data_str:\n",
    "                values.append(k_v['name'])\n",
    "            return values\n",
    "        else:\n",
    "            return None"
   ]
  },
  {
   "cell_type": "code",
   "execution_count": 51,
   "metadata": {
    "colab": {},
    "colab_type": "code",
    "id": "lcx924JynVGG"
   },
   "outputs": [],
   "source": [
    "movie_meta[['genres', 'production_companies', 'production_countries', 'spoken_languages']] = movie_meta[['genres', 'production_companies', 'production_countries', 'spoken_languages']].applymap(get_values)"
   ]
  },
  {
   "cell_type": "code",
   "execution_count": 52,
   "metadata": {
    "colab": {},
    "colab_type": "code",
    "id": "QP3u-03BnWp5"
   },
   "outputs": [],
   "source": [
    "movie_meta['release_date'] = pd.to_datetime(movie_meta['release_date'], format = '%Y-%m-%d', errors='coerce')"
   ]
  },
  {
   "cell_type": "code",
   "execution_count": 53,
   "metadata": {
    "colab": {
     "base_uri": "https://localhost:8080/",
     "height": 414
    },
    "colab_type": "code",
    "executionInfo": {
     "elapsed": 701,
     "status": "ok",
     "timestamp": 1545040934508,
     "user": {
      "displayName": "An Tran",
      "photoUrl": "",
      "userId": "16327389219813473079"
     },
     "user_tz": -420
    },
    "id": "7hysVpwbnZ2d",
    "outputId": "9dce45d6-6860-4906-fb01-b315ee0c6c7e"
   },
   "outputs": [
    {
     "data": {
      "text/html": [
       "<div>\n",
       "<style scoped>\n",
       "    .dataframe tbody tr th:only-of-type {\n",
       "        vertical-align: middle;\n",
       "    }\n",
       "\n",
       "    .dataframe tbody tr th {\n",
       "        vertical-align: top;\n",
       "    }\n",
       "\n",
       "    .dataframe thead th {\n",
       "        text-align: right;\n",
       "    }\n",
       "</style>\n",
       "<table border=\"1\" class=\"dataframe\">\n",
       "  <thead>\n",
       "    <tr style=\"text-align: right;\">\n",
       "      <th></th>\n",
       "      <th>adult</th>\n",
       "      <th>belongs_to_collection</th>\n",
       "      <th>budget</th>\n",
       "      <th>genres</th>\n",
       "      <th>id</th>\n",
       "      <th>original_language</th>\n",
       "      <th>production_companies</th>\n",
       "      <th>production_countries</th>\n",
       "      <th>release_date</th>\n",
       "      <th>revenue</th>\n",
       "      <th>runtime</th>\n",
       "      <th>spoken_languages</th>\n",
       "      <th>vote_average</th>\n",
       "      <th>vote_count</th>\n",
       "    </tr>\n",
       "    <tr>\n",
       "      <th>title</th>\n",
       "      <th></th>\n",
       "      <th></th>\n",
       "      <th></th>\n",
       "      <th></th>\n",
       "      <th></th>\n",
       "      <th></th>\n",
       "      <th></th>\n",
       "      <th></th>\n",
       "      <th></th>\n",
       "      <th></th>\n",
       "      <th></th>\n",
       "      <th></th>\n",
       "      <th></th>\n",
       "      <th></th>\n",
       "    </tr>\n",
       "  </thead>\n",
       "  <tbody>\n",
       "    <tr>\n",
       "      <th>Toy Story</th>\n",
       "      <td>False</td>\n",
       "      <td>True</td>\n",
       "      <td>30000000.0</td>\n",
       "      <td>[Animation, Comedy, Family]</td>\n",
       "      <td>862</td>\n",
       "      <td>en</td>\n",
       "      <td>[Pixar Animation Studios]</td>\n",
       "      <td>[United States of America]</td>\n",
       "      <td>1995-10-30</td>\n",
       "      <td>373554033.0</td>\n",
       "      <td>81.0</td>\n",
       "      <td>[English]</td>\n",
       "      <td>7.7</td>\n",
       "      <td>5415.0</td>\n",
       "    </tr>\n",
       "    <tr>\n",
       "      <th>Jumanji</th>\n",
       "      <td>False</td>\n",
       "      <td>False</td>\n",
       "      <td>65000000.0</td>\n",
       "      <td>[Adventure, Fantasy, Family]</td>\n",
       "      <td>8844</td>\n",
       "      <td>en</td>\n",
       "      <td>[TriStar Pictures, Teitler Film, Interscope Co...</td>\n",
       "      <td>[United States of America]</td>\n",
       "      <td>1995-12-15</td>\n",
       "      <td>262797249.0</td>\n",
       "      <td>104.0</td>\n",
       "      <td>[English, Français]</td>\n",
       "      <td>6.9</td>\n",
       "      <td>2413.0</td>\n",
       "    </tr>\n",
       "    <tr>\n",
       "      <th>Grumpier Old Men</th>\n",
       "      <td>False</td>\n",
       "      <td>True</td>\n",
       "      <td>NaN</td>\n",
       "      <td>[Romance, Comedy]</td>\n",
       "      <td>15602</td>\n",
       "      <td>en</td>\n",
       "      <td>[Warner Bros., Lancaster Gate]</td>\n",
       "      <td>[United States of America]</td>\n",
       "      <td>1995-12-22</td>\n",
       "      <td>NaN</td>\n",
       "      <td>101.0</td>\n",
       "      <td>[English]</td>\n",
       "      <td>6.5</td>\n",
       "      <td>92.0</td>\n",
       "    </tr>\n",
       "    <tr>\n",
       "      <th>Waiting to Exhale</th>\n",
       "      <td>False</td>\n",
       "      <td>False</td>\n",
       "      <td>16000000.0</td>\n",
       "      <td>[Comedy, Drama, Romance]</td>\n",
       "      <td>31357</td>\n",
       "      <td>en</td>\n",
       "      <td>[Twentieth Century Fox Film Corporation]</td>\n",
       "      <td>[United States of America]</td>\n",
       "      <td>1995-12-22</td>\n",
       "      <td>81452156.0</td>\n",
       "      <td>127.0</td>\n",
       "      <td>[English]</td>\n",
       "      <td>6.1</td>\n",
       "      <td>34.0</td>\n",
       "    </tr>\n",
       "    <tr>\n",
       "      <th>Father of the Bride Part II</th>\n",
       "      <td>False</td>\n",
       "      <td>True</td>\n",
       "      <td>NaN</td>\n",
       "      <td>[Comedy]</td>\n",
       "      <td>11862</td>\n",
       "      <td>en</td>\n",
       "      <td>[Sandollar Productions, Touchstone Pictures]</td>\n",
       "      <td>[United States of America]</td>\n",
       "      <td>1995-02-10</td>\n",
       "      <td>76578911.0</td>\n",
       "      <td>106.0</td>\n",
       "      <td>[English]</td>\n",
       "      <td>5.7</td>\n",
       "      <td>173.0</td>\n",
       "    </tr>\n",
       "  </tbody>\n",
       "</table>\n",
       "</div>"
      ],
      "text/plain": [
       "                             adult  belongs_to_collection      budget  \\\n",
       "title                                                                   \n",
       "Toy Story                    False                   True  30000000.0   \n",
       "Jumanji                      False                  False  65000000.0   \n",
       "Grumpier Old Men             False                   True         NaN   \n",
       "Waiting to Exhale            False                  False  16000000.0   \n",
       "Father of the Bride Part II  False                   True         NaN   \n",
       "\n",
       "                                                   genres     id  \\\n",
       "title                                                              \n",
       "Toy Story                     [Animation, Comedy, Family]    862   \n",
       "Jumanji                      [Adventure, Fantasy, Family]   8844   \n",
       "Grumpier Old Men                        [Romance, Comedy]  15602   \n",
       "Waiting to Exhale                [Comedy, Drama, Romance]  31357   \n",
       "Father of the Bride Part II                      [Comedy]  11862   \n",
       "\n",
       "                            original_language  \\\n",
       "title                                           \n",
       "Toy Story                                  en   \n",
       "Jumanji                                    en   \n",
       "Grumpier Old Men                           en   \n",
       "Waiting to Exhale                          en   \n",
       "Father of the Bride Part II                en   \n",
       "\n",
       "                                                          production_companies  \\\n",
       "title                                                                            \n",
       "Toy Story                                            [Pixar Animation Studios]   \n",
       "Jumanji                      [TriStar Pictures, Teitler Film, Interscope Co...   \n",
       "Grumpier Old Men                                [Warner Bros., Lancaster Gate]   \n",
       "Waiting to Exhale                     [Twentieth Century Fox Film Corporation]   \n",
       "Father of the Bride Part II       [Sandollar Productions, Touchstone Pictures]   \n",
       "\n",
       "                                   production_countries release_date  \\\n",
       "title                                                                  \n",
       "Toy Story                    [United States of America]   1995-10-30   \n",
       "Jumanji                      [United States of America]   1995-12-15   \n",
       "Grumpier Old Men             [United States of America]   1995-12-22   \n",
       "Waiting to Exhale            [United States of America]   1995-12-22   \n",
       "Father of the Bride Part II  [United States of America]   1995-02-10   \n",
       "\n",
       "                                 revenue  runtime     spoken_languages  \\\n",
       "title                                                                    \n",
       "Toy Story                    373554033.0     81.0            [English]   \n",
       "Jumanji                      262797249.0    104.0  [English, Français]   \n",
       "Grumpier Old Men                     NaN    101.0            [English]   \n",
       "Waiting to Exhale             81452156.0    127.0            [English]   \n",
       "Father of the Bride Part II   76578911.0    106.0            [English]   \n",
       "\n",
       "                             vote_average  vote_count  \n",
       "title                                                  \n",
       "Toy Story                             7.7      5415.0  \n",
       "Jumanji                               6.9      2413.0  \n",
       "Grumpier Old Men                      6.5        92.0  \n",
       "Waiting to Exhale                     6.1        34.0  \n",
       "Father of the Bride Part II           5.7       173.0  "
      ]
     },
     "execution_count": 53,
     "metadata": {},
     "output_type": "execute_result"
    }
   ],
   "source": [
    "movie_meta.head()"
   ]
  },
  {
   "cell_type": "code",
   "execution_count": 54,
   "metadata": {
    "colab": {
     "base_uri": "https://localhost:8080/",
     "height": 373
    },
    "colab_type": "code",
    "executionInfo": {
     "elapsed": 1818,
     "status": "ok",
     "timestamp": 1545040946074,
     "user": {
      "displayName": "An Tran",
      "photoUrl": "",
      "userId": "16327389219813473079"
     },
     "user_tz": -420
    },
    "id": "8lqF5SLfnbLt",
    "outputId": "9cb926fc-db7e-44c4-90f7-b61fe403aaf4"
   },
   "outputs": [
    {
     "data": {
      "text/plain": [
       "<matplotlib.axes._subplots.AxesSubplot at 0x20820a65e48>"
      ]
     },
     "execution_count": 54,
     "metadata": {},
     "output_type": "execute_result"
    },
    {
     "data": {
      "image/png": "[encoded data removed]",
      "text/plain": [
       "<Figure size 432x288 with 1 Axes>"
      ]
     },
     "metadata": {
      "needs_background": "light"
     },
     "output_type": "display_data"
    }
   ],
   "source": [
    "sns.heatmap(movie_meta.isnull(), yticklabels = False, cbar = False, cmap = 'viridis')"
   ]
  },
  {
   "cell_type": "code",
   "execution_count": 55,
   "metadata": {
    "colab": {},
    "colab_type": "code",
    "id": "IKJDc7GzndvU"
   },
   "outputs": [],
   "source": [
    "movie_meta['profit'] = movie_meta['revenue'] - movie_meta['budget']\n"
   ]
  },
  {
   "cell_type": "code",
   "execution_count": 56,
   "metadata": {
    "colab": {
     "base_uri": "https://localhost:8080/",
     "height": 374
    },
    "colab_type": "code",
    "executionInfo": {
     "elapsed": 663,
     "status": "ok",
     "timestamp": 1545040958437,
     "user": {
      "displayName": "An Tran",
      "photoUrl": "",
      "userId": "16327389219813473079"
     },
     "user_tz": -420
    },
    "id": "HqIR2JTSnfl4",
    "outputId": "598e7eae-bf8b-4fbe-8d4f-6566381e78ce"
   },
   "outputs": [
    {
     "data": {
      "text/plain": [
       "<matplotlib.axes._subplots.AxesSubplot at 0x2081cc8e3c8>"
      ]
     },
     "execution_count": 56,
     "metadata": {},
     "output_type": "execute_result"
    },
    {
     "data": {
      "image/png": "[encoded data removed]",
      "text/plain": [
       "<Figure size 432x288 with 2 Axes>"
      ]
     },
     "metadata": {
      "needs_background": "light"
     },
     "output_type": "display_data"
    }
   ],
   "source": [
    "sns.heatmap(movie_meta.corr(), cmap = 'YlGnBu')"
   ]
  },
  {
   "cell_type": "code",
   "execution_count": 57,
   "metadata": {
    "colab": {},
    "colab_type": "code",
    "id": "bC8HGX1unhCh"
   },
   "outputs": [],
   "source": [
    "def counting_values(df, column):\n",
    "    value_count = {}\n",
    "    for row in df[column].dropna():\n",
    "        if len(row) > 0:\n",
    "            for key in row:\n",
    "                if key in value_count:\n",
    "                    value_count[key] += 1\n",
    "                else:\n",
    "                    value_count[key] = 1\n",
    "        else:\n",
    "            pass\n",
    "    return value_count"
   ]
  },
  {
   "cell_type": "code",
   "execution_count": 58,
   "metadata": {
    "colab": {},
    "colab_type": "code",
    "id": "KBQzjW57nj3f"
   },
   "outputs": [],
   "source": [
    "countries = pd.Series(counting_values(movie_meta, 'production_countries'))\n",
    "\n",
    "#the map didn't come out so interesting in a regular scale, so I changed it to a logarithmic one:\n",
    "ln_countries = pd.Series(np.log(countries.values), index = countries.index)"
   ]
  },
  {
   "cell_type": "code",
   "execution_count": 63,
   "metadata": {
    "colab": {
     "base_uri": "https://localhost:8080/",
     "height": 542
    },
    "colab_type": "code",
    "executionInfo": {
     "elapsed": 778,
     "status": "ok",
     "timestamp": 1545041115740,
     "user": {
      "displayName": "An Tran",
      "photoUrl": "",
      "userId": "16327389219813473079"
     },
     "user_tz": -420
    },
    "id": "Oc8LTnMenmRb",
    "outputId": "9e367276-2f5e-4582-ad25-c38d7130ced9"
   },
   "outputs": [
    {
     "data": {
      "application/vnd.plotly.v1+json": {
       "data": [
        {
         "colorbar": {
          "title": "log of Sum of Movies"
         },
         "colorscale": "Blackbody",
         "locationmode": "country names",
         "locations": [
          "United States of America",
          "Germany",
          "United Kingdom",
          "France",
          "Italy",
          "Spain",
          "China",
          "Australia",
          "South Africa",
          "Canada",
          "Switzerland",
          "Belgium",
          "Japan",
          "Iran",
          "Netherlands",
          "Hong Kong",
          "Tunisia",
          "Ireland",
          "Dominican Republic",
          "Croatia",
          "Russia",
          "Macedonia",
          "Austria",
          "Taiwan",
          "New Zealand",
          "Mexico",
          "Poland",
          "Peru",
          "Cuba",
          "Liechtenstein",
          "Denmark",
          "Portugal",
          "Finland",
          "Sweden",
          "Argentina",
          "Iceland",
          "South Korea",
          "Serbia",
          "Hungary",
          "Czech Republic",
          "India",
          "Brazil",
          "Greece",
          "Congo",
          "Senegal",
          "Burkina Faso",
          "Romania",
          "Philippines",
          "Vietnam",
          "Trinidad and Tobago",
          "Bulgaria",
          "Chile",
          "Norway",
          "Kazakhstan",
          "Algeria",
          "Luxembourg",
          "Georgia",
          "Ukraine",
          "Botswana",
          "Aruba",
          "Israel",
          "Turkey",
          "Ecuador",
          "Lebanon",
          "Morocco",
          "Bosnia and Herzegovina",
          "Bahamas",
          "Malaysia",
          "Bhutan",
          "Jamaica",
          "Pakistan",
          "Nepal",
          "Cote D'Ivoire",
          "Thailand",
          "Namibia",
          "Cameroon",
          "Colombia",
          "Czechoslovakia",
          "Uruguay",
          "Slovenia",
          "Libyan Arab Jamahiriya",
          "Puerto Rico",
          "Soviet Union",
          "East Germany",
          "Singapore",
          "Afghanistan",
          "Malta",
          "Panama",
          "Egypt",
          "Zimbabwe",
          "Tajikistan",
          "Uzbekistan",
          "Costa Rica",
          "Kuwait",
          "Martinique",
          "Ghana",
          "Armenia",
          "Indonesia",
          "Mongolia",
          "Bolivia",
          "Monaco",
          "Iraq",
          "Slovakia",
          "Serbia and Montenegro",
          "Venezuela",
          "Lithuania",
          "Rwanda",
          "Palestinian Territory",
          "Chad",
          "Paraguay",
          "Qatar",
          "Estonia",
          "Macao",
          "Mali",
          "United States Minor Outlying Islands",
          "Latvia",
          "United Arab Emirates",
          "Azerbaijan",
          "Cayman Islands",
          "Nicaragua",
          "Liberia",
          "Yugoslavia",
          "Montenegro",
          "Angola",
          "Belarus",
          "Cambodia",
          "Mauritania",
          "Cyprus",
          "Bangladesh",
          "Syrian Arab Republic",
          "Kyrgyz Republic",
          "Albania",
          "Tanzania",
          "North Korea",
          "Kenya",
          "Jordan",
          "Uganda",
          "Saudi Arabia",
          "Somalia",
          "Guatemala",
          "Madagascar",
          "Ethiopia",
          "Sri Lanka",
          "Papua New Guinea",
          "Nigeria",
          "Lao People's Democratic Republic",
          "French Polynesia",
          "Netherlands Antilles",
          "Myanmar",
          "Bermuda",
          "El Salvador",
          "French Southern Territories",
          "Samoa",
          "Moldova",
          "Barbados",
          "Antarctica",
          "Gibraltar",
          "Brunei Darussalam",
          "Honduras",
          "Guinea"
         ],
         "text": [
          21153,
          2254,
          4094,
          3940,
          2169,
          964,
          372,
          570,
          125,
          1765,
          254,
          447,
          1648,
          106,
          375,
          596,
          18,
          225,
          8,
          78,
          912,
          15,
          209,
          129,
          123,
          329,
          319,
          30,
          25,
          8,
          386,
          128,
          383,
          588,
          254,
          68,
          495,
          106,
          175,
          209,
          828,
          291,
          169,
          5,
          14,
          10,
          142,
          83,
          10,
          2,
          56,
          68,
          203,
          23,
          13,
          90,
          30,
          55,
          3,
          6,
          147,
          165,
          10,
          15,
          33,
          35,
          5,
          13,
          4,
          4,
          18,
          6,
          2,
          116,
          3,
          5,
          34,
          4,
          18,
          32,
          3,
          13,
          20,
          6,
          41,
          8,
          9,
          7,
          25,
          3,
          3,
          6,
          6,
          1,
          1,
          4,
          8,
          33,
          3,
          10,
          4,
          8,
          30,
          3,
          19,
          36,
          4,
          11,
          4,
          3,
          14,
          59,
          2,
          2,
          1,
          29,
          27,
          2,
          1,
          3,
          3,
          4,
          7,
          3,
          9,
          9,
          5,
          7,
          2,
          5,
          6,
          5,
          2,
          3,
          3,
          9,
          2,
          2,
          1,
          6,
          1,
          5,
          3,
          2,
          6,
          3,
          1,
          1,
          1,
          1,
          3,
          1,
          1,
          1,
          1,
          1,
          1,
          1,
          1,
          1
         ],
         "type": "choropleth",
         "uid": "c03ad2b3-b7f7-4d45-b7d5-7f1e35dbf9b5",
         "z": [
          9.95953701838715,
          7.720461694599722,
          8.317277766221235,
          8.27893600229198,
          7.682021510826875,
          6.871091294610546,
          5.918893854273146,
          6.345636360828596,
          4.8283137373023015,
          7.475905969367397,
          5.537334267018537,
          6.102558594613569,
          7.4073177104694174,
          4.663439094112067,
          5.926926025970411,
          6.39024066706535,
          2.8903717578961645,
          5.41610040220442,
          2.0794415416798357,
          4.356708826689592,
          6.815639990074331,
          2.70805020110221,
          5.342334251964811,
          4.859812404361672,
          4.812184355372417,
          5.796057750765372,
          5.765191102784844,
          3.4011973816621555,
          3.2188758248682006,
          2.0794415416798357,
          5.955837369464831,
          4.852030263919617,
          5.948034989180646,
          6.376726947898627,
          5.537334267018537,
          4.219507705176107,
          6.20455776256869,
          4.663439094112067,
          5.1647859739235145,
          5.342334251964811,
          6.71901315438526,
          5.673323267171493,
          5.1298987149230735,
          1.6094379124341003,
          2.6390573296152584,
          2.302585092994046,
          4.955827057601261,
          4.418840607796598,
          2.302585092994046,
          0.6931471805599453,
          4.02535169073515,
          4.219507705176107,
          5.313205979041787,
          3.1354942159291497,
          2.5649493574615367,
          4.499809670330265,
          3.4011973816621555,
          4.007333185232471,
          1.0986122886681098,
          1.791759469228055,
          4.990432586778736,
          5.10594547390058,
          2.302585092994046,
          2.70805020110221,
          3.4965075614664802,
          3.5553480614894135,
          1.6094379124341003,
          2.5649493574615367,
          1.3862943611198906,
          1.3862943611198906,
          2.8903717578961645,
          1.791759469228055,
          0.6931471805599453,
          4.7535901911063645,
          1.0986122886681098,
          1.6094379124341003,
          3.5263605246161616,
          1.3862943611198906,
          2.8903717578961645,
          3.4657359027997265,
          1.0986122886681098,
          2.5649493574615367,
          2.995732273553991,
          1.791759469228055,
          3.713572066704308,
          2.0794415416798357,
          2.1972245773362196,
          1.9459101490553132,
          3.2188758248682006,
          1.0986122886681098,
          1.0986122886681098,
          1.791759469228055,
          1.791759469228055,
          0,
          0,
          1.3862943611198906,
          2.0794415416798357,
          3.4965075614664802,
          1.0986122886681098,
          2.302585092994046,
          1.3862943611198906,
          2.0794415416798357,
          3.4011973816621555,
          1.0986122886681098,
          2.9444389791664403,
          3.58351893845611,
          1.3862943611198906,
          2.3978952727983707,
          1.3862943611198906,
          1.0986122886681098,
          2.6390573296152584,
          4.07753744390572,
          0.6931471805599453,
          0.6931471805599453,
          0,
          3.367295829986474,
          3.295836866004329,
          0.6931471805599453,
          0,
          1.0986122886681098,
          1.0986122886681098,
          1.3862943611198906,
          1.9459101490553132,
          1.0986122886681098,
          2.1972245773362196,
          2.1972245773362196,
          1.6094379124341003,
          1.9459101490553132,
          0.6931471805599453,
          1.6094379124341003,
          1.791759469228055,
          1.6094379124341003,
          0.6931471805599453,
          1.0986122886681098,
          1.0986122886681098,
          2.1972245773362196,
          0.6931471805599453,
          0.6931471805599453,
          0,
          1.791759469228055,
          0,
          1.6094379124341003,
          1.0986122886681098,
          0.6931471805599453,
          1.791759469228055,
          1.0986122886681098,
          0,
          0,
          0,
          0,
          1.0986122886681098,
          0,
          0,
          0,
          0,
          0,
          0,
          0,
          0,
          0
         ]
        }
       ],
       "layout": {
        "geo": {
         "projection": {
          "type": "natural earth"
         },
         "showframe": false
        },
        "title": "Movies Filmed in Countries around the World"
       }
      },
      "text/html": [
       "<div id=\"39ccb3b7-01c4-4c14-a7c2-db555a9c7b5c\" style=\"height: 525px; width: 100%;\" class=\"plotly-graph-div\"></div><script type=\"text/javascript\">require([\"plotly\"], function(Plotly) { window.PLOTLYENV=window.PLOTLYENV || {};window.PLOTLYENV.BASE_URL=\"https://plot.ly\";Plotly.newPlot(\"39ccb3b7-01c4-4c14-a7c2-db555a9c7b5c\", [{\"colorbar\": {\"title\": \"log of Sum of Movies\"}, \"colorscale\": \"Blackbody\", \"locationmode\": \"country names\", \"locations\": [\"United States of America\", \"Germany\", \"United Kingdom\", \"France\", \"Italy\", \"Spain\", \"China\", \"Australia\", \"South Africa\", \"Canada\", \"Switzerland\", \"Belgium\", \"Japan\", \"Iran\", \"Netherlands\", \"Hong Kong\", \"Tunisia\", \"Ireland\", \"Dominican Republic\", \"Croatia\", \"Russia\", \"Macedonia\", \"Austria\", \"Taiwan\", \"New Zealand\", \"Mexico\", \"Poland\", \"Peru\", \"Cuba\", \"Liechtenstein\", \"Denmark\", \"Portugal\", \"Finland\", \"Sweden\", \"Argentina\", \"Iceland\", \"South Korea\", \"Serbia\", \"Hungary\", \"Czech Republic\", \"India\", \"Brazil\", \"Greece\", \"Congo\", \"Senegal\", \"Burkina Faso\", \"Romania\", \"Philippines\", \"Vietnam\", \"Trinidad and Tobago\", \"Bulgaria\", \"Chile\", \"Norway\", \"Kazakhstan\", \"Algeria\", \"Luxembourg\", \"Georgia\", \"Ukraine\", \"Botswana\", \"Aruba\", \"Israel\", \"Turkey\", \"Ecuador\", \"Lebanon\", \"Morocco\", \"Bosnia and Herzegovina\", \"Bahamas\", \"Malaysia\", \"Bhutan\", \"Jamaica\", \"Pakistan\", \"Nepal\", \"Cote D'Ivoire\", \"Thailand\", \"Namibia\", \"Cameroon\", \"Colombia\", \"Czechoslovakia\", \"Uruguay\", \"Slovenia\", \"Libyan Arab Jamahiriya\", \"Puerto Rico\", \"Soviet Union\", \"East Germany\", \"Singapore\", \"Afghanistan\", \"Malta\", \"Panama\", \"Egypt\", \"Zimbabwe\", \"Tajikistan\", \"Uzbekistan\", \"Costa Rica\", \"Kuwait\", \"Martinique\", \"Ghana\", \"Armenia\", \"Indonesia\", \"Mongolia\", \"Bolivia\", \"Monaco\", \"Iraq\", \"Slovakia\", \"Serbia and Montenegro\", \"Venezuela\", \"Lithuania\", \"Rwanda\", \"Palestinian Territory\", \"Chad\", \"Paraguay\", \"Qatar\", \"Estonia\", \"Macao\", \"Mali\", \"United States Minor Outlying Islands\", \"Latvia\", \"United Arab Emirates\", \"Azerbaijan\", \"Cayman Islands\", \"Nicaragua\", \"Liberia\", \"Yugoslavia\", \"Montenegro\", \"Angola\", \"Belarus\", \"Cambodia\", \"Mauritania\", \"Cyprus\", \"Bangladesh\", \"Syrian Arab Republic\", \"Kyrgyz Republic\", \"Albania\", \"Tanzania\", \"North Korea\", \"Kenya\", \"Jordan\", \"Uganda\", \"Saudi Arabia\", \"Somalia\", \"Guatemala\", \"Madagascar\", \"Ethiopia\", \"Sri Lanka\", \"Papua New Guinea\", \"Nigeria\", \"Lao People's Democratic Republic\", \"French Polynesia\", \"Netherlands Antilles\", \"Myanmar\", \"Bermuda\", \"El Salvador\", \"French Southern Territories\", \"Samoa\", \"Moldova\", \"Barbados\", \"Antarctica\", \"Gibraltar\", \"Brunei Darussalam\", \"Honduras\", \"Guinea\"], \"text\": [21153.0, 2254.0, 4094.0, 3940.0, 2169.0, 964.0, 372.0, 570.0, 125.0, 1765.0, 254.0, 447.0, 1648.0, 106.0, 375.0, 596.0, 18.0, 225.0, 8.0, 78.0, 912.0, 15.0, 209.0, 129.0, 123.0, 329.0, 319.0, 30.0, 25.0, 8.0, 386.0, 128.0, 383.0, 588.0, 254.0, 68.0, 495.0, 106.0, 175.0, 209.0, 828.0, 291.0, 169.0, 5.0, 14.0, 10.0, 142.0, 83.0, 10.0, 2.0, 56.0, 68.0, 203.0, 23.0, 13.0, 90.0, 30.0, 55.0, 3.0, 6.0, 147.0, 165.0, 10.0, 15.0, 33.0, 35.0, 5.0, 13.0, 4.0, 4.0, 18.0, 6.0, 2.0, 116.0, 3.0, 5.0, 34.0, 4.0, 18.0, 32.0, 3.0, 13.0, 20.0, 6.0, 41.0, 8.0, 9.0, 7.0, 25.0, 3.0, 3.0, 6.0, 6.0, 1.0, 1.0, 4.0, 8.0, 33.0, 3.0, 10.0, 4.0, 8.0, 30.0, 3.0, 19.0, 36.0, 4.0, 11.0, 4.0, 3.0, 14.0, 59.0, 2.0, 2.0, 1.0, 29.0, 27.0, 2.0, 1.0, 3.0, 3.0, 4.0, 7.0, 3.0, 9.0, 9.0, 5.0, 7.0, 2.0, 5.0, 6.0, 5.0, 2.0, 3.0, 3.0, 9.0, 2.0, 2.0, 1.0, 6.0, 1.0, 5.0, 3.0, 2.0, 6.0, 3.0, 1.0, 1.0, 1.0, 1.0, 3.0, 1.0, 1.0, 1.0, 1.0, 1.0, 1.0, 1.0, 1.0, 1.0], \"z\": [9.95953701838715, 7.720461694599722, 8.317277766221235, 8.27893600229198, 7.682021510826875, 6.871091294610546, 5.918893854273146, 6.345636360828596, 4.8283137373023015, 7.475905969367397, 5.537334267018537, 6.102558594613569, 7.4073177104694174, 4.663439094112067, 5.926926025970411, 6.39024066706535, 2.8903717578961645, 5.41610040220442, 2.0794415416798357, 4.356708826689592, 6.815639990074331, 2.70805020110221, 5.342334251964811, 4.859812404361672, 4.812184355372417, 5.796057750765372, 5.765191102784844, 3.4011973816621555, 3.2188758248682006, 2.0794415416798357, 5.955837369464831, 4.852030263919617, 5.948034989180646, 6.376726947898627, 5.537334267018537, 4.219507705176107, 6.20455776256869, 4.663439094112067, 5.1647859739235145, 5.342334251964811, 6.71901315438526, 5.673323267171493, 5.1298987149230735, 1.6094379124341003, 2.6390573296152584, 2.302585092994046, 4.955827057601261, 4.418840607796598, 2.302585092994046, 0.6931471805599453, 4.02535169073515, 4.219507705176107, 5.313205979041787, 3.1354942159291497, 2.5649493574615367, 4.499809670330265, 3.4011973816621555, 4.007333185232471, 1.0986122886681098, 1.791759469228055, 4.990432586778736, 5.10594547390058, 2.302585092994046, 2.70805020110221, 3.4965075614664802, 3.5553480614894135, 1.6094379124341003, 2.5649493574615367, 1.3862943611198906, 1.3862943611198906, 2.8903717578961645, 1.791759469228055, 0.6931471805599453, 4.7535901911063645, 1.0986122886681098, 1.6094379124341003, 3.5263605246161616, 1.3862943611198906, 2.8903717578961645, 3.4657359027997265, 1.0986122886681098, 2.5649493574615367, 2.995732273553991, 1.791759469228055, 3.713572066704308, 2.0794415416798357, 2.1972245773362196, 1.9459101490553132, 3.2188758248682006, 1.0986122886681098, 1.0986122886681098, 1.791759469228055, 1.791759469228055, 0.0, 0.0, 1.3862943611198906, 2.0794415416798357, 3.4965075614664802, 1.0986122886681098, 2.302585092994046, 1.3862943611198906, 2.0794415416798357, 3.4011973816621555, 1.0986122886681098, 2.9444389791664403, 3.58351893845611, 1.3862943611198906, 2.3978952727983707, 1.3862943611198906, 1.0986122886681098, 2.6390573296152584, 4.07753744390572, 0.6931471805599453, 0.6931471805599453, 0.0, 3.367295829986474, 3.295836866004329, 0.6931471805599453, 0.0, 1.0986122886681098, 1.0986122886681098, 1.3862943611198906, 1.9459101490553132, 1.0986122886681098, 2.1972245773362196, 2.1972245773362196, 1.6094379124341003, 1.9459101490553132, 0.6931471805599453, 1.6094379124341003, 1.791759469228055, 1.6094379124341003, 0.6931471805599453, 1.0986122886681098, 1.0986122886681098, 2.1972245773362196, 0.6931471805599453, 0.6931471805599453, 0.0, 1.791759469228055, 0.0, 1.6094379124341003, 1.0986122886681098, 0.6931471805599453, 1.791759469228055, 1.0986122886681098, 0.0, 0.0, 0.0, 0.0, 1.0986122886681098, 0.0, 0.0, 0.0, 0.0, 0.0, 0.0, 0.0, 0.0, 0.0], \"type\": \"choropleth\", \"uid\": \"c03ad2b3-b7f7-4d45-b7d5-7f1e35dbf9b5\"}], {\"geo\": {\"projection\": {\"type\": \"natural earth\"}, \"showframe\": false}, \"title\": \"Movies Filmed in Countries around the World\"}, {\"showLink\": true, \"linkText\": \"Export to plot.ly\"})});</script><script type=\"text/javascript\">window.addEventListener(\"resize\", function(){window._Plotly.Plots.resize(document.getElementById(\"39ccb3b7-01c4-4c14-a7c2-db555a9c7b5c\"));});</script>"
      ],
      "text/vnd.plotly.v1+html": [
       "<div id=\"39ccb3b7-01c4-4c14-a7c2-db555a9c7b5c\" style=\"height: 525px; width: 100%;\" class=\"plotly-graph-div\"></div><script type=\"text/javascript\">require([\"plotly\"], function(Plotly) { window.PLOTLYENV=window.PLOTLYENV || {};window.PLOTLYENV.BASE_URL=\"https://plot.ly\";Plotly.newPlot(\"39ccb3b7-01c4-4c14-a7c2-db555a9c7b5c\", [{\"colorbar\": {\"title\": \"log of Sum of Movies\"}, \"colorscale\": \"Blackbody\", \"locationmode\": \"country names\", \"locations\": [\"United States of America\", \"Germany\", \"United Kingdom\", \"France\", \"Italy\", \"Spain\", \"China\", \"Australia\", \"South Africa\", \"Canada\", \"Switzerland\", \"Belgium\", \"Japan\", \"Iran\", \"Netherlands\", \"Hong Kong\", \"Tunisia\", \"Ireland\", \"Dominican Republic\", \"Croatia\", \"Russia\", \"Macedonia\", \"Austria\", \"Taiwan\", \"New Zealand\", \"Mexico\", \"Poland\", \"Peru\", \"Cuba\", \"Liechtenstein\", \"Denmark\", \"Portugal\", \"Finland\", \"Sweden\", \"Argentina\", \"Iceland\", \"South Korea\", \"Serbia\", \"Hungary\", \"Czech Republic\", \"India\", \"Brazil\", \"Greece\", \"Congo\", \"Senegal\", \"Burkina Faso\", \"Romania\", \"Philippines\", \"Vietnam\", \"Trinidad and Tobago\", \"Bulgaria\", \"Chile\", \"Norway\", \"Kazakhstan\", \"Algeria\", \"Luxembourg\", \"Georgia\", \"Ukraine\", \"Botswana\", \"Aruba\", \"Israel\", \"Turkey\", \"Ecuador\", \"Lebanon\", \"Morocco\", \"Bosnia and Herzegovina\", \"Bahamas\", \"Malaysia\", \"Bhutan\", \"Jamaica\", \"Pakistan\", \"Nepal\", \"Cote D'Ivoire\", \"Thailand\", \"Namibia\", \"Cameroon\", \"Colombia\", \"Czechoslovakia\", \"Uruguay\", \"Slovenia\", \"Libyan Arab Jamahiriya\", \"Puerto Rico\", \"Soviet Union\", \"East Germany\", \"Singapore\", \"Afghanistan\", \"Malta\", \"Panama\", \"Egypt\", \"Zimbabwe\", \"Tajikistan\", \"Uzbekistan\", \"Costa Rica\", \"Kuwait\", \"Martinique\", \"Ghana\", \"Armenia\", \"Indonesia\", \"Mongolia\", \"Bolivia\", \"Monaco\", \"Iraq\", \"Slovakia\", \"Serbia and Montenegro\", \"Venezuela\", \"Lithuania\", \"Rwanda\", \"Palestinian Territory\", \"Chad\", \"Paraguay\", \"Qatar\", \"Estonia\", \"Macao\", \"Mali\", \"United States Minor Outlying Islands\", \"Latvia\", \"United Arab Emirates\", \"Azerbaijan\", \"Cayman Islands\", \"Nicaragua\", \"Liberia\", \"Yugoslavia\", \"Montenegro\", \"Angola\", \"Belarus\", \"Cambodia\", \"Mauritania\", \"Cyprus\", \"Bangladesh\", \"Syrian Arab Republic\", \"Kyrgyz Republic\", \"Albania\", \"Tanzania\", \"North Korea\", \"Kenya\", \"Jordan\", \"Uganda\", \"Saudi Arabia\", \"Somalia\", \"Guatemala\", \"Madagascar\", \"Ethiopia\", \"Sri Lanka\", \"Papua New Guinea\", \"Nigeria\", \"Lao People's Democratic Republic\", \"French Polynesia\", \"Netherlands Antilles\", \"Myanmar\", \"Bermuda\", \"El Salvador\", \"French Southern Territories\", \"Samoa\", \"Moldova\", \"Barbados\", \"Antarctica\", \"Gibraltar\", \"Brunei Darussalam\", \"Honduras\", \"Guinea\"], \"text\": [21153.0, 2254.0, 4094.0, 3940.0, 2169.0, 964.0, 372.0, 570.0, 125.0, 1765.0, 254.0, 447.0, 1648.0, 106.0, 375.0, 596.0, 18.0, 225.0, 8.0, 78.0, 912.0, 15.0, 209.0, 129.0, 123.0, 329.0, 319.0, 30.0, 25.0, 8.0, 386.0, 128.0, 383.0, 588.0, 254.0, 68.0, 495.0, 106.0, 175.0, 209.0, 828.0, 291.0, 169.0, 5.0, 14.0, 10.0, 142.0, 83.0, 10.0, 2.0, 56.0, 68.0, 203.0, 23.0, 13.0, 90.0, 30.0, 55.0, 3.0, 6.0, 147.0, 165.0, 10.0, 15.0, 33.0, 35.0, 5.0, 13.0, 4.0, 4.0, 18.0, 6.0, 2.0, 116.0, 3.0, 5.0, 34.0, 4.0, 18.0, 32.0, 3.0, 13.0, 20.0, 6.0, 41.0, 8.0, 9.0, 7.0, 25.0, 3.0, 3.0, 6.0, 6.0, 1.0, 1.0, 4.0, 8.0, 33.0, 3.0, 10.0, 4.0, 8.0, 30.0, 3.0, 19.0, 36.0, 4.0, 11.0, 4.0, 3.0, 14.0, 59.0, 2.0, 2.0, 1.0, 29.0, 27.0, 2.0, 1.0, 3.0, 3.0, 4.0, 7.0, 3.0, 9.0, 9.0, 5.0, 7.0, 2.0, 5.0, 6.0, 5.0, 2.0, 3.0, 3.0, 9.0, 2.0, 2.0, 1.0, 6.0, 1.0, 5.0, 3.0, 2.0, 6.0, 3.0, 1.0, 1.0, 1.0, 1.0, 3.0, 1.0, 1.0, 1.0, 1.0, 1.0, 1.0, 1.0, 1.0, 1.0], \"z\": [9.95953701838715, 7.720461694599722, 8.317277766221235, 8.27893600229198, 7.682021510826875, 6.871091294610546, 5.918893854273146, 6.345636360828596, 4.8283137373023015, 7.475905969367397, 5.537334267018537, 6.102558594613569, 7.4073177104694174, 4.663439094112067, 5.926926025970411, 6.39024066706535, 2.8903717578961645, 5.41610040220442, 2.0794415416798357, 4.356708826689592, 6.815639990074331, 2.70805020110221, 5.342334251964811, 4.859812404361672, 4.812184355372417, 5.796057750765372, 5.765191102784844, 3.4011973816621555, 3.2188758248682006, 2.0794415416798357, 5.955837369464831, 4.852030263919617, 5.948034989180646, 6.376726947898627, 5.537334267018537, 4.219507705176107, 6.20455776256869, 4.663439094112067, 5.1647859739235145, 5.342334251964811, 6.71901315438526, 5.673323267171493, 5.1298987149230735, 1.6094379124341003, 2.6390573296152584, 2.302585092994046, 4.955827057601261, 4.418840607796598, 2.302585092994046, 0.6931471805599453, 4.02535169073515, 4.219507705176107, 5.313205979041787, 3.1354942159291497, 2.5649493574615367, 4.499809670330265, 3.4011973816621555, 4.007333185232471, 1.0986122886681098, 1.791759469228055, 4.990432586778736, 5.10594547390058, 2.302585092994046, 2.70805020110221, 3.4965075614664802, 3.5553480614894135, 1.6094379124341003, 2.5649493574615367, 1.3862943611198906, 1.3862943611198906, 2.8903717578961645, 1.791759469228055, 0.6931471805599453, 4.7535901911063645, 1.0986122886681098, 1.6094379124341003, 3.5263605246161616, 1.3862943611198906, 2.8903717578961645, 3.4657359027997265, 1.0986122886681098, 2.5649493574615367, 2.995732273553991, 1.791759469228055, 3.713572066704308, 2.0794415416798357, 2.1972245773362196, 1.9459101490553132, 3.2188758248682006, 1.0986122886681098, 1.0986122886681098, 1.791759469228055, 1.791759469228055, 0.0, 0.0, 1.3862943611198906, 2.0794415416798357, 3.4965075614664802, 1.0986122886681098, 2.302585092994046, 1.3862943611198906, 2.0794415416798357, 3.4011973816621555, 1.0986122886681098, 2.9444389791664403, 3.58351893845611, 1.3862943611198906, 2.3978952727983707, 1.3862943611198906, 1.0986122886681098, 2.6390573296152584, 4.07753744390572, 0.6931471805599453, 0.6931471805599453, 0.0, 3.367295829986474, 3.295836866004329, 0.6931471805599453, 0.0, 1.0986122886681098, 1.0986122886681098, 1.3862943611198906, 1.9459101490553132, 1.0986122886681098, 2.1972245773362196, 2.1972245773362196, 1.6094379124341003, 1.9459101490553132, 0.6931471805599453, 1.6094379124341003, 1.791759469228055, 1.6094379124341003, 0.6931471805599453, 1.0986122886681098, 1.0986122886681098, 2.1972245773362196, 0.6931471805599453, 0.6931471805599453, 0.0, 1.791759469228055, 0.0, 1.6094379124341003, 1.0986122886681098, 0.6931471805599453, 1.791759469228055, 1.0986122886681098, 0.0, 0.0, 0.0, 0.0, 1.0986122886681098, 0.0, 0.0, 0.0, 0.0, 0.0, 0.0, 0.0, 0.0, 0.0], \"type\": \"choropleth\", \"uid\": \"c03ad2b3-b7f7-4d45-b7d5-7f1e35dbf9b5\"}], {\"geo\": {\"projection\": {\"type\": \"natural earth\"}, \"showframe\": false}, \"title\": \"Movies Filmed in Countries around the World\"}, {\"showLink\": true, \"linkText\": \"Export to plot.ly\"})});</script><script type=\"text/javascript\">window.addEventListener(\"resize\", function(){window._Plotly.Plots.resize(document.getElementById(\"39ccb3b7-01c4-4c14-a7c2-db555a9c7b5c\"));});</script>"
      ]
     },
     "metadata": {},
     "output_type": "display_data"
    }
   ],
   "source": [
    "data = dict(type = 'choropleth',\n",
    "           locations = ln_countries.index,\n",
    "           locationmode = 'country names',\n",
    "           colorscale = 'Blackbody',\n",
    "           text = countries.values,\n",
    "           z = ln_countries.values,\n",
    "           colorbar = {'title': 'log of Sum of Movies'})\n",
    "\n",
    "layout = dict(title = 'Movies Filmed in Countries around the World',\n",
    "             geo = dict(showframe = False,\n",
    "                       projection = {'type': 'natural earth'}))\n",
    "\n",
    "choromap = go.Figure(data = [data],layout = layout)\n",
    "iplot(choromap,validate=False)"
   ]
  },
  {
   "cell_type": "code",
   "execution_count": 60,
   "metadata": {
    "colab": {
     "base_uri": "https://localhost:8080/",
     "height": 341
    },
    "colab_type": "code",
    "executionInfo": {
     "elapsed": 647,
     "status": "ok",
     "timestamp": 1545041061705,
     "user": {
      "displayName": "An Tran",
      "photoUrl": "",
      "userId": "16327389219813473079"
     },
     "user_tz": -420
    },
    "id": "fnP67igsnpSv",
    "outputId": "ffaa74a7-4449-4bff-b46a-788bfa0e960c"
   },
   "outputs": [
    {
     "data": {
      "text/plain": [
       "<matplotlib.axes._subplots.AxesSubplot at 0x2081cd078d0>"
      ]
     },
     "execution_count": 60,
     "metadata": {},
     "output_type": "execute_result"
    },
    {
     "data": {
      "image/png": "[encoded data removed]",
      "text/plain": [
       "<Figure size 432x288 with 1 Axes>"
      ]
     },
     "metadata": {
      "needs_background": "light"
     },
     "output_type": "display_data"
    }
   ],
   "source": [
    "genres_count = pd.Series(counting_values(movie_meta, 'genres'))\n",
    "genres_count.sort_values(ascending = False).head(10).plot(kind = 'bar')"
   ]
  },
  {
   "cell_type": "code",
   "execution_count": 126,
   "metadata": {
    "colab": {
     "base_uri": "https://localhost:8080/",
     "height": 341
    },
    "colab_type": "code",
    "executionInfo": {
     "elapsed": 680,
     "status": "ok",
     "timestamp": 1545041074998,
     "user": {
      "displayName": "An Tran",
      "photoUrl": "",
      "userId": "16327389219813473079"
     },
     "user_tz": -420
    },
    "id": "swqDuLVAn6QI",
    "outputId": "b8589e40-da28-4e8c-8529-0a31cda2b2e8"
   },
   "outputs": [
    {
     "data": {
      "text/plain": [
       "<matplotlib.axes._subplots.AxesSubplot at 0x1be95396b38>"
      ]
     },
     "execution_count": 126,
     "metadata": {},
     "output_type": "execute_result"
    },
    {
     "data": {
      "image/png": "[encoded data removed]",
      "text/plain": [
       "<Figure size 432x288 with 1 Axes>"
      ]
     },
     "metadata": {
      "needs_background": "light"
     },
     "output_type": "display_data"
    }
   ],
   "source": [
    "genres_count = pd.Series(counting_values(movie_meta[movie_meta['belongs_to_collection'] == True], 'genres'))\n",
    "genres_count.sort_values(ascending = False).head(10).plot(kind = 'bar')"
   ]
  },
  {
   "cell_type": "code",
   "execution_count": 127,
   "metadata": {
    "colab": {
     "base_uri": "https://localhost:8080/",
     "height": 299
    },
    "colab_type": "code",
    "executionInfo": {
     "elapsed": 986,
     "status": "ok",
     "timestamp": 1545041087777,
     "user": {
      "displayName": "An Tran",
      "photoUrl": "",
      "userId": "16327389219813473079"
     },
     "user_tz": -420
    },
    "id": "X4lJCd2Dn9e_",
    "outputId": "12a13768-dea9-4ca5-d828-4d186d718ce8"
   },
   "outputs": [
    {
     "data": {
      "text/plain": [
       "<matplotlib.axes._subplots.AxesSubplot at 0x1be95415be0>"
      ]
     },
     "execution_count": 127,
     "metadata": {},
     "output_type": "execute_result"
    },
    {
     "data": {
      "image/png": "[encoded data removed]",
      "text/plain": [
       "<Figure size 432x288 with 1 Axes>"
      ]
     },
     "metadata": {
      "needs_background": "light"
     },
     "output_type": "display_data"
    }
   ],
   "source": [
    "movie_meta['years'] = movie_meta['release_date'].apply(lambda x: x.year)\n",
    "\n",
    "movie_meta[(movie_meta['years'] < 2018) & (movie_meta['years'] >= 1950)].groupby(by = 'years').mean()['vote_average'].plot()"
   ]
  },
  {
   "cell_type": "code",
   "execution_count": null,
   "metadata": {
    "colab": {},
    "colab_type": "code",
    "id": "MEUlLDkZoAiO"
   },
   "outputs": [],
   "source": []
  },
  {
   "cell_type": "code",
   "execution_count": null,
   "metadata": {},
   "outputs": [],
   "source": []
  }
 ],
 "metadata": {
  "colab": {
   "name": "Untitled3.ipynb",
   "provenance": [],
   "version": "0.3.2"
  },
  "kernelspec": {
   "display_name": "Python 3",
   "language": "python",
   "name": "python3"
  },
  "language_info": {
   "codemirror_mode": {
    "name": "ipython",
    "version": 3
   },
   "file_extension": ".py",
   "mimetype": "text/x-python",
   "name": "python",
   "nbconvert_exporter": "python",
   "pygments_lexer": "ipython3",
   "version": "3.6.7"
  }
 },
 "nbformat": 4,
 "nbformat_minor": 1
}
